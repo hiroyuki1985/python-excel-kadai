{
  "nbformat": 4,
  "nbformat_minor": 0,
  "metadata": {
    "colab": {
      "provenance": []
    },
    "kernelspec": {
      "name": "python3",
      "display_name": "Python 3"
    },
    "language_info": {
      "name": "python"
    }
  },
  "cells": [
    {
      "cell_type": "code",
      "source": [
        "from openpyxl import Workbook\n",
        "from openpyxl.styles import Alignment, Font\n",
        "from datetime import datetime\n",
        "\n",
        "\n",
        "today = datetime.now().strftime(\"%Y/%m/%d\")\n",
        "\n",
        "\n",
        "wb = Workbook()\n",
        "ws = wb.active\n",
        "ws.title = \"請求書\"\n",
        "\n",
        "\n",
        "ws[\"A1\"] = \"請求書\"\n",
        "ws[\"A1\"].font = Font(size=20, bold=True)\n",
        "\n",
        "\n",
        "ws[\"A3\"] = \"株式会社ABC\"\n",
        "ws[\"A4\"] = \"〒101-0022 東京都千代田区神田練塀町300\"\n",
        "ws[\"A5\"] = \"TEL:03-1234-5678 FAX:03-1234-5678\"\n",
        "ws[\"A6\"] = \"担当者名:鈴木一郎 様\"\n",
        "\n",
        "\n",
        "ws[\"E3\"] = \"No.\"\n",
        "ws[\"F3\"] = \"0001\"\n",
        "ws[\"E4\"] = \"日付\"\n",
        "ws[\"F4\"] = today\n",
        "\n",
        "\n",
        "headers = [\"商品名\", \"数量\", \"単価\", \"金額\"]\n",
        "for col, header in enumerate(headers, start=1):\n",
        "    ws.cell(row=8, column=col, value=header).font = Font(bold=True)\n",
        "    ws.cell(row=8, column=col).alignment = Alignment(horizontal=\"center\")\n",
        "\n",
        "\n",
        "items = [\n",
        "    {\"品名\": \"商品A\", \"数量\": 2, \"単価\": 10000},\n",
        "    {\"品名\": \"商品B\", \"数量\": 1, \"単価\": 15000},\n",
        "]\n",
        "\n",
        "for i, item in enumerate(items, start=1):\n",
        "    row = 8 + i\n",
        "    ws[f\"A{row}\"] = item[\"品名\"]\n",
        "    ws[f\"B{row}\"] = item[\"数量\"]\n",
        "    ws[f\"C{row}\"] = item[\"単価\"]\n",
        "    ws[f\"D{row}\"] = item[\"数量\"] * item[\"単価\"]\n",
        "\n",
        "\n",
        "subtotal_row = 10 + 1\n",
        "ws[f\"C{subtotal_row}\"] = \"小計\"\n",
        "ws[f\"D{subtotal_row}\"] = f\"=SUM(D9:D10)\"\n",
        "\n",
        "tax_row = subtotal_row + 1\n",
        "ws[f\"C{tax_row}\"] = \"消費税\"\n",
        "ws[f\"D{tax_row}\"] = f\"=D{subtotal_row}*0.1\"\n",
        "\n",
        "total_row = tax_row + 1\n",
        "ws[f\"C{total_row}\"] = \"合計\"\n",
        "ws[f\"D{total_row}\"] = f\"=D{subtotal_row}+D{tax_row}\"\n",
        "\n",
        "\n",
        "file_name = f\"請求書_{datetime.now().strftime('%Y%m%d')}.xlsx\"\n",
        "wb.save(file_name)\n",
        "print(f\"{file_name} を作成しました。\")\n"
      ],
      "metadata": {
        "colab": {
          "base_uri": "https://localhost:8080/"
        },
        "id": "wSo6IH3hZQbG",
        "outputId": "c9d97edd-a06e-498f-e57b-6f2c729e9b66"
      },
      "execution_count": 7,
      "outputs": [
        {
          "output_type": "stream",
          "name": "stdout",
          "text": [
            "請求書_20250826.xlsx を作成しました。\n"
          ]
        }
      ]
    }
  ]
}