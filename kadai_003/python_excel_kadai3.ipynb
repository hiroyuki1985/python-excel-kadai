{
  "nbformat": 4,
  "nbformat_minor": 0,
  "metadata": {
    "colab": {
      "provenance": []
    },
    "kernelspec": {
      "name": "python3",
      "display_name": "Python 3"
    },
    "language_info": {
      "name": "python"
    }
  },
  "cells": [
    {
      "cell_type": "code",
      "execution_count": 4,
      "metadata": {
        "id": "_a78xKN1O-8Z"
      },
      "outputs": [],
      "source": [
        "import pandas as pd\n",
        "from openpyxl import load_workbook\n",
        "from openpyxl.styles import PatternFill\n",
        "\n",
        "df2022 = pd.read_excel(\"2022_年間売上表.xlsx\", sheet_name=\"Sheet1\")\n",
        "df2023 = pd.read_excel(\"2023_年間売上表.xlsx\", sheet_name=\"Sheet1\")\n",
        "\n",
        "df2022[\"売上年\"] = 2022\n",
        "df2023[\"売上年\"] = 2023\n",
        "\n",
        "df_all = pd.concat([df2022, df2023], ignore_index=True)\n",
        "\n",
        "df_summary = df_all.groupby([\"商品\", \"売上年\"], as_index=False)[\"金額（千円）\"].sum()\n",
        "\n",
        "output_file = \"売上集計表.xlsx\"\n",
        "df_summary.to_excel(output_file, sheet_name=\"売上集計表\", index=False)\n",
        "\n",
        "wb = load_workbook(output_file)\n",
        "ws = wb[\"売上集計表\"]\n",
        "\n",
        "fill = PatternFill(start_color=\"F2F2F2\", end_color=\"F2F2F2\", fill_type=\"solid\")\n",
        "\n",
        "for cell in ws[1]:\n",
        "    cell.fill = fill\n",
        "\n",
        "wb.save(output_file)"
      ]
    }
  ]
}